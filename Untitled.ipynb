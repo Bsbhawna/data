{
 "cells": [
  {
   "cell_type": "markdown",
   "id": "4382a4eb",
   "metadata": {},
   "source": [
    "# Snack Analysis"
   ]
  },
  {
   "cell_type": "markdown",
   "id": "97a0882d",
   "metadata": {},
   "source": [
    "### Set Up PySpark Environment"
   ]
  },
  {
   "cell_type": "code",
   "execution_count": null,
   "id": "612c1a02",
   "metadata": {},
   "outputs": [],
   "source": [
    "pip install pyspark"
   ]
  },
  {
   "cell_type": "code",
   "execution_count": 14,
   "id": "1bd2f56c",
   "metadata": {},
   "outputs": [],
   "source": [
    "from pyspark.sql import SparkSession\n",
    "from pyspark.sql.functions import avg, col"
   ]
  },
  {
   "cell_type": "code",
   "execution_count": 6,
   "id": "5a048b42",
   "metadata": {},
   "outputs": [],
   "source": [
    "#Create a SparkSession:\n",
    "spark = SparkSession.builder.appName(\"Food Analysis\").getOrCreate()"
   ]
  },
  {
   "cell_type": "markdown",
   "id": "9c4a54f7",
   "metadata": {},
   "source": [
    "### Load CSV Files"
   ]
  },
  {
   "cell_type": "code",
   "execution_count": 9,
   "id": "d398df32",
   "metadata": {},
   "outputs": [],
   "source": [
    "\n",
    "menu_df = spark.read.csv(\"menu.csv\" , header=True, inferSchema=True)\n",
    "starbucks_drinks_df = spark.read.csv(\"starbucks-menu-nutrition-drinks.csv\" , header=True, inferSchema=True)\n",
    "starbucks_food_df = spark.read.csv(\"starbucks-menu-nutrition-food.csv\" , header=True, inferSchema=True) \n",
    "starbucks_drinkMenu_expanded_df = spark.read.csv(\"starbucks_drinkMenu_expanded.csv\" , header=True, inferSchema=True) "
   ]
  },
  {
   "cell_type": "markdown",
   "id": "a9c40b76",
   "metadata": {},
   "source": [
    "### Inspect and Clean Data "
   ]
  },
  {
   "cell_type": "code",
   "execution_count": 11,
   "id": "53619266",
   "metadata": {},
   "outputs": [
    {
     "name": "stdout",
     "output_type": "stream",
     "text": [
      "root\n",
      " |-- Category: string (nullable = true)\n",
      " |-- Item: string (nullable = true)\n",
      " |-- Serving Size: string (nullable = true)\n",
      " |-- Calories: integer (nullable = true)\n",
      " |-- Calories from Fat: integer (nullable = true)\n",
      " |-- Total Fat: double (nullable = true)\n",
      " |-- Total Fat (% Daily Value): integer (nullable = true)\n",
      " |-- Saturated Fat: double (nullable = true)\n",
      " |-- Saturated Fat (% Daily Value): integer (nullable = true)\n",
      " |-- Trans Fat: double (nullable = true)\n",
      " |-- Cholesterol: integer (nullable = true)\n",
      " |-- Cholesterol (% Daily Value): integer (nullable = true)\n",
      " |-- Sodium: integer (nullable = true)\n",
      " |-- Sodium (% Daily Value): integer (nullable = true)\n",
      " |-- Carbohydrates: integer (nullable = true)\n",
      " |-- Carbohydrates (% Daily Value): integer (nullable = true)\n",
      " |-- Dietary Fiber: integer (nullable = true)\n",
      " |-- Dietary Fiber (% Daily Value): integer (nullable = true)\n",
      " |-- Sugars: integer (nullable = true)\n",
      " |-- Protein: integer (nullable = true)\n",
      " |-- Vitamin A (% Daily Value): integer (nullable = true)\n",
      " |-- Vitamin C (% Daily Value): integer (nullable = true)\n",
      " |-- Calcium (% Daily Value): integer (nullable = true)\n",
      " |-- Iron (% Daily Value): integer (nullable = true)\n",
      "\n"
     ]
    }
   ],
   "source": [
    "menu_df.printSchema()\n"
   ]
  },
  {
   "cell_type": "code",
   "execution_count": 12,
   "id": "83a1054b",
   "metadata": {},
   "outputs": [
    {
     "name": "stdout",
     "output_type": "stream",
     "text": [
      "+---------+--------------------+--------------+--------+-----------------+---------+-------------------------+-------------+-----------------------------+---------+-----------+---------------------------+------+----------------------+-------------+-----------------------------+-------------+-----------------------------+------+-------+-------------------------+-------------------------+-----------------------+--------------------+\n",
      "| Category|                Item|  Serving Size|Calories|Calories from Fat|Total Fat|Total Fat (% Daily Value)|Saturated Fat|Saturated Fat (% Daily Value)|Trans Fat|Cholesterol|Cholesterol (% Daily Value)|Sodium|Sodium (% Daily Value)|Carbohydrates|Carbohydrates (% Daily Value)|Dietary Fiber|Dietary Fiber (% Daily Value)|Sugars|Protein|Vitamin A (% Daily Value)|Vitamin C (% Daily Value)|Calcium (% Daily Value)|Iron (% Daily Value)|\n",
      "+---------+--------------------+--------------+--------+-----------------+---------+-------------------------+-------------+-----------------------------+---------+-----------+---------------------------+------+----------------------+-------------+-----------------------------+-------------+-----------------------------+------+-------+-------------------------+-------------------------+-----------------------+--------------------+\n",
      "|Breakfast|        Egg McMuffin|4.8 oz (136 g)|     300|              120|     13.0|                       20|          5.0|                           25|      0.0|        260|                         87|   750|                    31|           31|                           10|            4|                           17|     3|     17|                       10|                        0|                     25|                  15|\n",
      "|Breakfast|   Egg White Delight|4.8 oz (135 g)|     250|               70|      8.0|                       12|          3.0|                           15|      0.0|         25|                          8|   770|                    32|           30|                           10|            4|                           17|     3|     18|                        6|                        0|                     25|                   8|\n",
      "|Breakfast|    Sausage McMuffin|3.9 oz (111 g)|     370|              200|     23.0|                       35|          8.0|                           42|      0.0|         45|                         15|   780|                    33|           29|                           10|            4|                           17|     2|     14|                        8|                        0|                     25|                  10|\n",
      "|Breakfast|Sausage McMuffin ...|5.7 oz (161 g)|     450|              250|     28.0|                       43|         10.0|                           52|      0.0|        285|                         95|   860|                    36|           30|                           10|            4|                           17|     2|     21|                       15|                        0|                     30|                  15|\n",
      "|Breakfast|Sausage McMuffin ...|5.7 oz (161 g)|     400|              210|     23.0|                       35|          8.0|                           42|      0.0|         50|                         16|   880|                    37|           30|                           10|            4|                           17|     2|     21|                        6|                        0|                     25|                  10|\n",
      "+---------+--------------------+--------------+--------+-----------------+---------+-------------------------+-------------+-----------------------------+---------+-----------+---------------------------+------+----------------------+-------------+-----------------------------+-------------+-----------------------------+------+-------+-------------------------+-------------------------+-----------------------+--------------------+\n",
      "only showing top 5 rows\n",
      "\n"
     ]
    }
   ],
   "source": [
    "menu_df.show(5)"
   ]
  },
  {
   "cell_type": "code",
   "execution_count": 13,
   "id": "4ac34b84",
   "metadata": {},
   "outputs": [],
   "source": [
    "menu_df = menu_df.na.drop()"
   ]
  },
  {
   "cell_type": "markdown",
   "id": "57446ee8",
   "metadata": {},
   "source": [
    "### Perform Analysis"
   ]
  },
  {
   "cell_type": "markdown",
   "id": "e1388f06",
   "metadata": {},
   "source": [
    "#### Compare Average Calories"
   ]
  },
  {
   "cell_type": "code",
   "execution_count": 17,
   "id": "6a08edcf",
   "metadata": {},
   "outputs": [
    {
     "name": "stdout",
     "output_type": "stream",
     "text": [
      "McDonald's Avg Calories: 368.2692307692308\n"
     ]
    }
   ],
   "source": [
    "# McDonald's average calories\n",
    "menu_avg_calories = menu_df.groupBy().avg(\"Calories\").collect()[0][0]\n",
    "print(f\"McDonald's Avg Calories: {menu_avg_calories}\")\n",
    "\n"
   ]
  },
  {
   "cell_type": "code",
   "execution_count": null,
   "id": "c7213ddb",
   "metadata": {},
   "outputs": [],
   "source": [
    "\n",
    "menu_df = spark.read.csv(\"menu.csv\" , header=True, inferSchema=True)\n",
    "starbucks_drinks_df = spark.read.csv(\"starbucks-menu-nutrition-drinks.csv\" , header=True, inferSchema=True)\n",
    "starbucks_food_df = spark.read.csv(\"starbucks-menu-nutrition-food.csv\" , header=True, inferSchema=True) \n",
    "starbucks_drinkMenu_expanded_df = spark.read.csv(\"starbucks_drinkMenu_expanded.csv\" , header=True, inferSchema=True) "
   ]
  },
  {
   "cell_type": "code",
   "execution_count": 20,
   "id": "033593f6",
   "metadata": {},
   "outputs": [
    {
     "name": "stdout",
     "output_type": "stream",
     "text": [
      "root\n",
      " |-- ��: string (nullable = true)\n",
      " |-- \u0000 \u0000C\u0000a\u0000l\u0000o\u0000r\u0000i\u0000e\u0000s\u0000: string (nullable = true)\n",
      " |-- \u0000 \u0000F\u0000a\u0000t\u0000 \u0000(\u0000g\u0000)\u0000: string (nullable = true)\n",
      " |-- \u0000 \u0000C\u0000a\u0000r\u0000b\u0000.\u0000 \u0000(\u0000g\u0000)\u0000: string (nullable = true)\n",
      " |-- \u0000 \u0000F\u0000i\u0000b\u0000e\u0000r\u0000 \u0000(\u0000g\u0000)\u0000: string (nullable = true)\n",
      " |-- \u0000 \u0000P\u0000r\u0000o\u0000t\u0000e\u0000i\u0000n\u0000 \u0000(\u0000g\u0000)\u0000: string (nullable = true)\n",
      "\n"
     ]
    }
   ],
   "source": [
    "starbucks_food_df.printSchema()\n"
   ]
  },
  {
   "cell_type": "code",
   "execution_count": 21,
   "id": "271c283e",
   "metadata": {},
   "outputs": [],
   "source": [
    "starbucks_food_df = starbucks_food_df.withColumnRenamed(\" Calories \", \"Calories\")\n"
   ]
  },
  {
   "cell_type": "code",
   "execution_count": 23,
   "id": "3c58568c",
   "metadata": {},
   "outputs": [
    {
     "name": "stdout",
     "output_type": "stream",
     "text": [
      "['��', '\\x00 \\x00C\\x00a\\x00l\\x00o\\x00r\\x00i\\x00e\\x00s\\x00', '\\x00 \\x00F\\x00a\\x00t\\x00 \\x00(\\x00g\\x00)\\x00', '\\x00 \\x00C\\x00a\\x00r\\x00b\\x00.\\x00 \\x00(\\x00g\\x00)\\x00', '\\x00 \\x00F\\x00i\\x00b\\x00e\\x00r\\x00 \\x00(\\x00g\\x00)\\x00', '\\x00 \\x00P\\x00r\\x00o\\x00t\\x00e\\x00i\\x00n\\x00 \\x00(\\x00g\\x00)\\x00']\n"
     ]
    }
   ],
   "source": [
    "print(starbucks_food_df.columns)\n"
   ]
  },
  {
   "cell_type": "code",
   "execution_count": 26,
   "id": "5a10436d",
   "metadata": {},
   "outputs": [],
   "source": [
    "clean_columns = [col_name.encode('utf-8' , 'ignore').decode('utf-8').strip() for col_name in starbucks_food_df.columns]\n",
    "starbucks_food_df = starbucks_food_df.toDF(*clean_columns)"
   ]
  },
  {
   "cell_type": "code",
   "execution_count": 27,
   "id": "3b3d40d8",
   "metadata": {},
   "outputs": [
    {
     "name": "stdout",
     "output_type": "stream",
     "text": [
      "['��', '\\x00 \\x00C\\x00a\\x00l\\x00o\\x00r\\x00i\\x00e\\x00s\\x00', '\\x00 \\x00F\\x00a\\x00t\\x00 \\x00(\\x00g\\x00)\\x00', '\\x00 \\x00C\\x00a\\x00r\\x00b\\x00.\\x00 \\x00(\\x00g\\x00)\\x00', '\\x00 \\x00F\\x00i\\x00b\\x00e\\x00r\\x00 \\x00(\\x00g\\x00)\\x00', '\\x00 \\x00P\\x00r\\x00o\\x00t\\x00e\\x00i\\x00n\\x00 \\x00(\\x00g\\x00)\\x00']\n"
     ]
    }
   ],
   "source": [
    "print(starbucks_food_df.columns)"
   ]
  },
  {
   "cell_type": "code",
   "execution_count": 28,
   "id": "a6cc1262",
   "metadata": {},
   "outputs": [],
   "source": [
    "starbucks_food_df = spark.read.csv(\"starbucks-menu-nutrition-food.csv\", header=True, inferSchema=True, encoding=\"utf-16\")\n"
   ]
  },
  {
   "cell_type": "code",
   "execution_count": 40,
   "id": "36be8d8f",
   "metadata": {},
   "outputs": [],
   "source": [
    "corrected_columns = [\n",
    "    \"Unknown\",\n",
    "    \"Calories\",\n",
    "    \"Fat (g)\",\n",
    "    \"Carb (g)\",\n",
    "    \"Fiber (g)\",\n",
    "    \"Protein (g)\"\n",
    "]\n",
    "starbucks_food_df = starbucks_food_df.toDF(*corrected_columns)\n"
   ]
  },
  {
   "cell_type": "code",
   "execution_count": 41,
   "id": "e4e04540",
   "metadata": {},
   "outputs": [
    {
     "name": "stdout",
     "output_type": "stream",
     "text": [
      "['Unknown', 'Calories', 'Fat (g)', 'Carb (g)', 'Fiber (g)', 'Protein (g)']\n"
     ]
    }
   ],
   "source": [
    "print(starbucks_food_df.columns)\n"
   ]
  },
  {
   "cell_type": "code",
   "execution_count": 42,
   "id": "617490e4",
   "metadata": {},
   "outputs": [
    {
     "name": "stdout",
     "output_type": "stream",
     "text": [
      "Starbucks Food Avg Calories: 356.6371681415929\n"
     ]
    }
   ],
   "source": [
    "starbucks_food_avg_calories = starbucks_food_df.groupBy().avg(\"Calories\").collect()[0][0]\n",
    "print(f\"Starbucks Food Avg Calories: {starbucks_food_avg_calories}\")\n"
   ]
  },
  {
   "cell_type": "code",
   "execution_count": 43,
   "id": "8e38081b",
   "metadata": {},
   "outputs": [
    {
     "name": "stdout",
     "output_type": "stream",
     "text": [
      "['_c0', 'Calories', 'Fat (g)', 'Carb. (g)', 'Fiber (g)', 'Protein', 'Sodium']\n"
     ]
    }
   ],
   "source": [
    "print(starbucks_drinks_df.columns)\n"
   ]
  },
  {
   "cell_type": "code",
   "execution_count": 44,
   "id": "31062181",
   "metadata": {},
   "outputs": [],
   "source": [
    "cleaned_columns = [col.strip() for col in starbucks_drinks_df.columns]\n",
    "starbucks_drinks_df = starbucks_drinks_df.toDF(*cleaned_columns)"
   ]
  },
  {
   "cell_type": "code",
   "execution_count": 45,
   "id": "7340eeb7",
   "metadata": {},
   "outputs": [
    {
     "name": "stdout",
     "output_type": "stream",
     "text": [
      "['_c0', 'Calories', 'Fat (g)', 'Carb. (g)', 'Fiber (g)', 'Protein', 'Sodium']\n"
     ]
    }
   ],
   "source": [
    "print(starbucks_drinks_df.columns)"
   ]
  },
  {
   "cell_type": "code",
   "execution_count": 46,
   "id": "81f1b02a",
   "metadata": {},
   "outputs": [],
   "source": [
    "# Drop the unnecessary column and rename the columns properly\n",
    "starbucks_drinks_df = starbucks_drinks_df.drop(\"_c0\")"
   ]
  },
  {
   "cell_type": "code",
   "execution_count": 47,
   "id": "f9dd1819",
   "metadata": {},
   "outputs": [
    {
     "name": "stdout",
     "output_type": "stream",
     "text": [
      "['Calories', 'Fat (g)', 'Carb. (g)', 'Fiber (g)', 'Protein', 'Sodium']\n"
     ]
    }
   ],
   "source": [
    "print(starbucks_drinks_df.columns)"
   ]
  },
  {
   "cell_type": "code",
   "execution_count": 49,
   "id": "014125f3",
   "metadata": {},
   "outputs": [
    {
     "name": "stdout",
     "output_type": "stream",
     "text": [
      "Starbucks Drinks Avg Calories: 135.16304347826087\n"
     ]
    }
   ],
   "source": [
    "from pyspark.sql.functions import col\n",
    "\n",
    "# Cast Calories column to a numeric type (float)\n",
    "starbucks_drinks_df = starbucks_drinks_df.withColumn(\"Calories\",col(\"Calories\").cast(\"float\"))\n",
    "\n",
    "# Calculate the average calories\n",
    "starbucks_drinks_avg_calories = starbucks_drinks_df.groupBy().avg(\"Calories\").collect()[0][0]\n",
    "print(f\"Starbucks Drinks Avg Calories: {starbucks_drinks_avg_calories}\")"
   ]
  },
  {
   "cell_type": "code",
   "execution_count": 50,
   "id": "56e81005",
   "metadata": {},
   "outputs": [
    {
     "name": "stdout",
     "output_type": "stream",
     "text": [
      "McDonald's Avg Calories: 368.2692307692308\n",
      "Starbucks Drinks Avg Calories: 135.16304347826087\n",
      "Starbucks Food Avg Calories: 356.6371681415929\n"
     ]
    }
   ],
   "source": [
    "# McDonald's average calories\n",
    "menu_avg_calories = menu_df.groupBy().avg(\"Calories\").collect()[0][0]\n",
    "print(f\"McDonald's Avg Calories: {menu_avg_calories}\")\n",
    "\n",
    "# Starbucks drinks average calories\n",
    "starbucks_drinks_avg_calories = starbucks_drinks_df.groupBy().avg(\"Calories\").collect()[0][0]\n",
    "print(f\"Starbucks Drinks Avg Calories: {starbucks_drinks_avg_calories}\")\n",
    "\n",
    "# Starbucks food average calories\n",
    "starbucks_food_avg_calories = starbucks_food_df.groupBy().avg(\"Calories\").collect()[0][0]\n",
    "print(f\"Starbucks Food Avg Calories: {starbucks_food_avg_calories}\")\n"
   ]
  },
  {
   "cell_type": "code",
   "execution_count": 51,
   "id": "02589554",
   "metadata": {},
   "outputs": [],
   "source": [
    "#Combine drinks and food datasets for Starbucks\n",
    "\n",
    "starbucks_combined_df = starbucks_drinks_df.union(starbucks_drinks_df)"
   ]
  },
  {
   "cell_type": "code",
   "execution_count": 53,
   "id": "7fe2b17f",
   "metadata": {},
   "outputs": [],
   "source": [
    "#Filter items under 300 calories\n",
    "\n",
    "healthy_mcd_items = menu_df.filter(col(\"Calories\") < 300)\n",
    "healthy_starbucks_items = starbucks_combined_df.filter(col(\"Calories\") < 300)"
   ]
  },
  {
   "cell_type": "code",
   "execution_count": 56,
   "id": "a186b19b",
   "metadata": {},
   "outputs": [
    {
     "name": "stdout",
     "output_type": "stream",
     "text": [
      "root\n",
      " |-- Calories: float (nullable = true)\n",
      " |-- Fat (g): string (nullable = true)\n",
      " |-- Carb. (g): string (nullable = true)\n",
      " |-- Fiber (g): string (nullable = true)\n",
      " |-- Protein: string (nullable = true)\n",
      " |-- Sodium: string (nullable = true)\n",
      "\n"
     ]
    }
   ],
   "source": [
    "starbucks_combined_df.printSchema()\n"
   ]
  },
  {
   "cell_type": "code",
   "execution_count": 60,
   "id": "ba4ad8f7",
   "metadata": {},
   "outputs": [
    {
     "name": "stdout",
     "output_type": "stream",
     "text": [
      "['Calories', 'Fat (g)', 'Carb. (g)', 'Fiber (g)', 'Protein', 'Sodium']\n"
     ]
    }
   ],
   "source": [
    "print(starbucks_combined_df.columns)\n"
   ]
  },
  {
   "cell_type": "code",
   "execution_count": 69,
   "id": "7f177e91",
   "metadata": {},
   "outputs": [],
   "source": [
    "starbucks_combined_df = starbucks_combined_df.withColumnRenamed(\"Carb. (g)\", \"Carb_g\")\n"
   ]
  },
  {
   "cell_type": "code",
   "execution_count": 70,
   "id": "553a2541",
   "metadata": {},
   "outputs": [],
   "source": [
    "starbucks_combined_df = starbucks_combined_df.withColumn(\"Carb_g\", col(\"Carb_g\").cast(\"float\"))\n"
   ]
  },
  {
   "cell_type": "code",
   "execution_count": 71,
   "id": "54c1f808",
   "metadata": {},
   "outputs": [
    {
     "name": "stdout",
     "output_type": "stream",
     "text": [
      "['Calories', 'Fat (g)', 'Carb_g', 'Fiber (g)', 'Protein', 'Sodium']\n"
     ]
    }
   ],
   "source": [
    "print(starbucks_combined_df.columns)\n"
   ]
  },
  {
   "cell_type": "code",
   "execution_count": null,
   "id": "c30baf4e",
   "metadata": {},
   "outputs": [],
   "source": []
  },
  {
   "cell_type": "code",
   "execution_count": null,
   "id": "fee922d3",
   "metadata": {},
   "outputs": [],
   "source": []
  }
 ],
 "metadata": {
  "kernelspec": {
   "display_name": "Python 3 (ipykernel)",
   "language": "python",
   "name": "python3"
  },
  "language_info": {
   "codemirror_mode": {
    "name": "ipython",
    "version": 3
   },
   "file_extension": ".py",
   "mimetype": "text/x-python",
   "name": "python",
   "nbconvert_exporter": "python",
   "pygments_lexer": "ipython3",
   "version": "3.10.9"
  }
 },
 "nbformat": 4,
 "nbformat_minor": 5
}
